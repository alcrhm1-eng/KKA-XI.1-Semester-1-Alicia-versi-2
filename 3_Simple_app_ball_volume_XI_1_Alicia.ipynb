{
  "nbformat": 4,
  "nbformat_minor": 0,
  "metadata": {
    "colab": {
      "provenance": [],
      "authorship_tag": "ABX9TyMdEu/yC54DKzJQkqTJsTx3",
      "include_colab_link": true
    },
    "kernelspec": {
      "name": "python3",
      "display_name": "Python 3"
    },
    "language_info": {
      "name": "python"
    }
  },
  "cells": [
    {
      "cell_type": "markdown",
      "metadata": {
        "id": "view-in-github",
        "colab_type": "text"
      },
      "source": [
        "<a href=\"https://colab.research.google.com/github/alcrhm1-eng/KKA-XI.1-Semester-1-Alicia-versi-2/blob/main/3_Simple_app_ball_volume_XI_1_Alicia.ipynb\" target=\"_parent\"><img src=\"https://colab.research.google.com/assets/colab-badge.svg\" alt=\"Open In Colab\"/></a>"
      ]
    },
    {
      "cell_type": "markdown",
      "source": [
        "Nama: Alicia Rahma\n",
        "\n",
        "Kelas: XI.1\n",
        "\n",
        "No. Absen: 04\n",
        "\n",
        "Nama kelompok: Taylor Swift"
      ],
      "metadata": {
        "id": "E25tTgtHgKlk"
      }
    },
    {
      "cell_type": "markdown",
      "source": [
        "#Aplikasi Sederhana menghitung Volume bola"
      ],
      "metadata": {
        "id": "M1Aqhg0Yg9kQ"
      }
    },
    {
      "cell_type": "code",
      "execution_count": null,
      "metadata": {
        "colab": {
          "base_uri": "https://localhost:8080/"
        },
        "id": "roewBS8DcjiZ",
        "outputId": "57e56cf2-4ddb-4a60-fdb6-c89760762715"
      },
      "outputs": [
        {
          "output_type": "stream",
          "name": "stdout",
          "text": [
            "Masukkan jari-jari bola (dalam satuan cm): 5\n",
            "Volume bola dengan jari-jari 5.0 cm adalah 523.33 cm³\n"
          ]
        }
      ],
      "source": [
        "r = float(input(\"Masukkan jari-jari bola (dalam satuan cm): \"))\n",
        "pi = 3.14\n",
        "volume = (4/3) * pi * r**3\n",
        "\n",
        "print(f\"Volume bola dengan jari-jari {r} cm adalah {volume:.2f} cm³\")"
      ]
    }
  ]
}